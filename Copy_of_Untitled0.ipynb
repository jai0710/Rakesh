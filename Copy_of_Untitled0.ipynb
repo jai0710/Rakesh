{
  "nbformat": 4,
  "nbformat_minor": 0,
  "metadata": {
    "colab": {
      "name": "Copy of Untitled0.ipynb",
      "provenance": [],
      "collapsed_sections": [],
      "authorship_tag": "ABX9TyPTrna5Hn1gqtubde4aInra",
      "include_colab_link": true
    },
    "kernelspec": {
      "name": "python3",
      "display_name": "Python 3"
    }
  },
  "cells": [
    {
      "cell_type": "markdown",
      "metadata": {
        "id": "view-in-github",
        "colab_type": "text"
      },
      "source": [
        "<a href=\"https://colab.research.google.com/github/jai0710/Rakesh/blob/master/Copy_of_Untitled0.ipynb\" target=\"_parent\"><img src=\"https://colab.research.google.com/assets/colab-badge.svg\" alt=\"Open In Colab\"/></a>"
      ]
    },
    {
      "cell_type": "code",
      "metadata": {
        "id": "LksgBU0KLq0E",
        "colab_type": "code",
        "colab": {
          "base_uri": "https://localhost:8080/",
          "height": 173
        },
        "outputId": "5acebfc5-690c-4d7a-cd80-f36c040ec742"
      },
      "source": [
        "#1.simple calculator\n",
        "a=float(input(\"value of a\"))\n",
        "b=float(input(\"value of b\"))\n",
        "print(\"Addition of two numbers = \",a+b)\n",
        "print(\"Substraction of two numbers = \",a-b)\n",
        "print(\"Multiplication of two numbers = \",a*b)\n",
        "print(\"Divition of two numbers = \",a/b)\n",
        "print(\"Modulus of two numbers = \",a%b)\n",
        "print(\"Exponential of two numbers = \",a**b)\n",
        "print(\"Floor Divition of two numbers = \",a//b)\n"
      ],
      "execution_count": null,
      "outputs": [
        {
          "output_type": "stream",
          "text": [
            "value of a5\n",
            "value of b4\n",
            "Addition of two numbers =  9.0\n",
            "Substraction of two numbers =  1.0\n",
            "Multiplication of two numbers =  20.0\n",
            "Divition of two numbers =  1.25\n",
            "Modulus of two numbers =  1.0\n",
            "Exponential of two numbers =  625.0\n",
            "Floor Divition of two numbers =  1.0\n"
          ],
          "name": "stdout"
        }
      ]
    },
    {
      "cell_type": "code",
      "metadata": {
        "id": "CxmnP5xSN1og",
        "colab_type": "code",
        "colab": {
          "base_uri": "https://localhost:8080/",
          "height": 87
        },
        "outputId": "3ef2737c-fb3a-4591-823f-d1ff43216043"
      },
      "source": [
        "#2.simple interest\n",
        "P=float(input(\"Enter the principle Amount\"))\n",
        "T=float(input(\"Enter the Time\"))\n",
        "R=float(input(\"Enter rate of Interrest\" ))\n",
        "SI=(P*T*R)%100\n",
        "print(\"Simple Interest = \",SI)\n",
        "\n",
        "\n",
        "\n"
      ],
      "execution_count": null,
      "outputs": [
        {
          "output_type": "stream",
          "text": [
            "Enter the principle Amount2000\n",
            "Enter the Time4\n",
            "Enter rate of Interrest10\n",
            "Simple Interest =  0.0\n"
          ],
          "name": "stdout"
        }
      ]
    },
    {
      "cell_type": "code",
      "metadata": {
        "id": "edJgd6GRO5Uq",
        "colab_type": "code",
        "colab": {
          "base_uri": "https://localhost:8080/",
          "height": 52
        },
        "outputId": "5a3ac642-47ca-4825-b816-5e2504080be1"
      },
      "source": [
        "#3.Area of circle\n",
        "r=float(input(\"Enter the Radius of the Circle = \"))\n",
        "a=(22/7)*r**2\n",
        "print(\"Area of Circle is \",a)"
      ],
      "execution_count": null,
      "outputs": [
        {
          "output_type": "stream",
          "text": [
            "Enter the Radius of the Circle = 45\n",
            "Area of Circle is  6364.285714285714\n"
          ],
          "name": "stdout"
        }
      ]
    },
    {
      "cell_type": "code",
      "metadata": {
        "id": "3ezjb2XJPZ4A",
        "colab_type": "code",
        "colab": {
          "base_uri": "https://localhost:8080/",
          "height": 87
        },
        "outputId": "9c9d808e-85b2-4962-bd1b-343be6e53cf3"
      },
      "source": [
        "#4Area of Triangle\n",
        "a=float(input('Enter first side of the triangle'))\n",
        "b=float(input('Enter second side of the triangle'))\n",
        "c=float(input('Enter third side of the triangle'))\n",
        "s=(a+b+c)/2\n",
        "area=(s*(s-a)*(s-b)*(s-c))** 0.5\n",
        "print('The area of the triangle is',area)"
      ],
      "execution_count": null,
      "outputs": [
        {
          "output_type": "stream",
          "text": [
            "Enter first side of the triangle2\n",
            "Enter second side of the triangle3\n",
            "Enter third side of the triangle2\n",
            "The area of the triangle is 1.984313483298443\n"
          ],
          "name": "stdout"
        }
      ]
    },
    {
      "cell_type": "code",
      "metadata": {
        "id": "95SwM4XXQlLw",
        "colab_type": "code",
        "colab": {
          "base_uri": "https://localhost:8080/",
          "height": 52
        },
        "outputId": "0df8fc03-b702-4a16-b3a0-881287a06160"
      },
      "source": [
        "#5.Celsicus to Fahrenheit\n",
        "c = float(input('Enter temperature in Celsius'))\n",
        "f =(c*9/5)+32\n",
        "print(\"Temperature in Fahrenheit is \",f)"
      ],
      "execution_count": null,
      "outputs": [
        {
          "output_type": "stream",
          "text": [
            "Enter temperature in Celsius200\n",
            "Temperature in Fahrenheit is  392.0\n"
          ],
          "name": "stdout"
        }
      ]
    },
    {
      "cell_type": "code",
      "metadata": {
        "id": "2xeOVWogSad1",
        "colab_type": "code",
        "colab": {
          "base_uri": "https://localhost:8080/",
          "height": 69
        },
        "outputId": "b07f3fc4-e1ce-4ec8-e51b-00828f645de4"
      },
      "source": [
        "#6.Area of Rectangle\n",
        "l = float(input(\"Enter the Length of the Rectangle\")) \n",
        "b = float(input(\"Enter the Breath of the Rectangle\"))\n",
        "a = l*b\n",
        "print(\"The Area of the Rectangle is \",a)\n"
      ],
      "execution_count": null,
      "outputs": [
        {
          "output_type": "stream",
          "text": [
            "Enter the Length of the Rectangle9\n",
            "Enter the Breath of the Rectangle8\n",
            "The Area of the Rectangle is  72.0\n"
          ],
          "name": "stdout"
        }
      ]
    },
    {
      "cell_type": "code",
      "metadata": {
        "id": "Yds8EaGJTUEt",
        "colab_type": "code",
        "colab": {
          "base_uri": "https://localhost:8080/",
          "height": 52
        },
        "outputId": "63cd7293-1500-4f07-a3ed-1ee0979f467d"
      },
      "source": [
        "#7. Perimeter of Square\n",
        "s = float(input(\"Enter the side of the Square\"))\n",
        "a=4*s\n",
        "print(\"Perimeter of the Square is \",a)\n"
      ],
      "execution_count": null,
      "outputs": [
        {
          "output_type": "stream",
          "text": [
            "Enter the side of the Square8\n",
            "Perimeter of the Square is  32.0\n"
          ],
          "name": "stdout"
        }
      ]
    },
    {
      "cell_type": "code",
      "metadata": {
        "id": "qnhJuseHUILa",
        "colab_type": "code",
        "colab": {
          "base_uri": "https://localhost:8080/",
          "height": 52
        },
        "outputId": "c1107cba-4ee8-455c-9338-6effa64fd7ff"
      },
      "source": [
        "#8.Circumference of a Circle\n",
        "r = float(input(\"Enter the Radius of the Circle\"))\n",
        "c = 2*(22/7)*r\n",
        "print(\"Circumfereance of the Circle is \",c)\n"
      ],
      "execution_count": null,
      "outputs": [
        {
          "output_type": "stream",
          "text": [
            "Enter the Radius of the Circle45\n",
            "Circumfereance of the Circle is  282.85714285714283\n"
          ],
          "name": "stdout"
        }
      ]
    },
    {
      "cell_type": "code",
      "metadata": {
        "id": "EfI-MGrPVK_l",
        "colab_type": "code",
        "colab": {
          "base_uri": "https://localhost:8080/",
          "height": 87
        },
        "outputId": "fec19114-852c-48ba-cd34-38da1bf53a7b"
      },
      "source": [
        "#9.Swapping of Two Numbers\n",
        "a = float(input(\" value of a \"))\n",
        "b = float(input(\" value of b\"))\n",
        "temp,a=a,b\n",
        "b=temp\n",
        "print(\"The value of after Swapping = \",a)\n",
        "print(\"The value of b after Swapping = \",b)\n"
      ],
      "execution_count": null,
      "outputs": [
        {
          "output_type": "stream",
          "text": [
            " value of a 4\n",
            " value of b2\n",
            "The value of after Swapping =  2.0\n",
            "The value of b after Swapping =  4.0\n"
          ],
          "name": "stdout"
        }
      ]
    },
    {
      "cell_type": "code",
      "metadata": {
        "id": "ImHdbLfSXMUY",
        "colab_type": "code",
        "colab": {}
      },
      "source": [
        ""
      ],
      "execution_count": null,
      "outputs": []
    }
  ]
}